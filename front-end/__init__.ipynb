{
 "cells": [
  {
   "cell_type": "code",
   "execution_count": 7,
   "metadata": {},
   "outputs": [],
   "source": [
    "#import module\n",
    "import os\n",
    "from ipywidgets import interact, interactive, fixed, interact_manual\n",
    "\n",
    "import ipywidgets as widgets\n",
    "\n",
    "from ipywidgets import FloatSlider\n",
    "\n",
    "from ipywidgets import VBox, HBox, interactive_output\n",
    "\n",
    "from ipywidgets import Dropdown\n",
    "from matplotlib.image import imread\n",
    "from ipywidgets import Button\n",
    "import pickle\n",
    "\n",
    "from matplotlib import pyplot as plt\n",
    "from matplotlib.pylab import subplots\n",
    "from wordcloud import WordCloud\n",
    "import numpy as np\n",
    "from random import shuffle\n",
    "from ipywidgets import IntSlider\n",
    "import pandas as pd\n",
    "from matplotlib.image import imread\n",
    "\n",
    "from ipywidgets import AppLayout, Layout\n"
   ]
  },
  {
   "cell_type": "code",
   "execution_count": 9,
   "metadata": {},
   "outputs": [],
   "source": [
    "#data pre-process and define variables\n",
    "#load data\n",
    "path=os.path.abspath(os.path.dirname(os.getcwd()))+'\\\\'\n",
    "data = pickle.load(open(path+'data_project.p', 'rb'))\n",
    "\n",
    "year_end=2019\n",
    "year_start=2015\n",
    "month=['Jan','Feb','Mar','Apr','May','Jun','Jul','Aug','Sept','Oct','Nov','Dec']\n",
    "start_month=1\n",
    "end_month=(year_end-year_start+1)*12\n",
    "\n",
    "\n",
    "time_idx=pd.date_range(start=str(year_start)+'0101',end=str(year_end)+'1231',freq='M')\n",
    "fmt='%Y-%m'\n",
    "options = [(item.strftime(fmt),item) for item in time_idx]\n",
    "\n",
    "fsx=widgets.SelectionSlider(\n",
    "            description='Period',\n",
    "            options=options,\n",
    "            continuous_update=False\n",
    "        )\n",
    "#This is the program running indicator\n",
    "stat=widgets.Label(value=\"Please select a input time period\")"
   ]
  }
 ],
 "metadata": {
  "kernelspec": {
   "display_name": "Python 3",
   "language": "python",
   "name": "python3"
  },
  "language_info": {
   "codemirror_mode": {
    "name": "ipython",
    "version": 3
   },
   "file_extension": ".py",
   "mimetype": "text/x-python",
   "name": "python",
   "nbconvert_exporter": "python",
   "pygments_lexer": "ipython3",
   "version": "3.7.6"
  }
 },
 "nbformat": 4,
 "nbformat_minor": 4
}
